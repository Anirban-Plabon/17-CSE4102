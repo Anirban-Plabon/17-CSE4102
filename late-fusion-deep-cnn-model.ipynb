{
 "cells": [
  {
   "cell_type": "code",
   "execution_count": 1,
   "id": "8d7d06cd",
   "metadata": {
    "_cell_guid": "b1076dfc-b9ad-4769-8c92-a6c4dae69d19",
    "_uuid": "8f2839f25d086af736a60e9eeb907d3b93b6e0e5",
    "execution": {
     "iopub.execute_input": "2024-05-15T16:59:57.616862Z",
     "iopub.status.busy": "2024-05-15T16:59:57.615742Z",
     "iopub.status.idle": "2024-05-15T17:00:06.824981Z",
     "shell.execute_reply": "2024-05-15T17:00:06.824045Z"
    },
    "papermill": {
     "duration": 9.223945,
     "end_time": "2024-05-15T17:00:06.827604",
     "exception": false,
     "start_time": "2024-05-15T16:59:57.603659",
     "status": "completed"
    },
    "tags": []
   },
   "outputs": [
    {
     "name": "stderr",
     "output_type": "stream",
     "text": [
      "/opt/conda/lib/python3.7/site-packages/nilearn/__init__.py:69: FutureWarning: Python 3.7 support is deprecated and will be removed in release 0.12 of Nilearn. Consider switching to Python 3.9 or 3.10.\n",
      "  _python_deprecation_warnings()\n"
     ]
    }
   ],
   "source": [
    "import os\n",
    "import glob\n",
    "\n",
    "import pandas as pd\n",
    "import numpy as np\n",
    "from pathlib import Path\n",
    "from ipywidgets import FileUpload\n",
    "\n",
    "import matplotlib.pyplot as plt\n",
    "\n",
    "import random\n",
    "from tqdm.notebook import tqdm\n",
    "import pydicom # Handle MRI images\n",
    "\n",
    "import cv2  # OpenCV - https://docs.opencv.org/master/d6/d00/tutorial_py_root.html\n",
    "\n",
    "from sklearn.model_selection import train_test_split\n",
    "from sklearn.metrics import roc_auc_score\n",
    "\n",
    "\n",
    "import tensorflow as tf\n",
    "from tensorflow import keras\n",
    "from tensorflow.keras.utils import to_categorical\n",
    "from tensorflow.keras import layers\n",
    "\n",
    "\n",
    "import keras\n",
    "from keras.models import Sequential\n",
    "from keras.layers import Dense, Dropout,Flatten\n",
    "from keras.layers import Conv2D, MaxPooling2D\n",
    "from keras import backend as K\n",
    "from keras.optimizers import Adam \n",
    "from tensorflow.keras.layers.experimental.preprocessing import Rescaling\n",
    "\n",
    "import tensorflow as tf\n",
    "from tensorflow.keras import layers\n",
    "import nilearn as nl\n",
    "import nibabel as nib\n",
    "import nilearn.plotting as nlplt"
   ]
  },
  {
   "cell_type": "code",
   "execution_count": 2,
   "id": "0095008c",
   "metadata": {
    "execution": {
     "iopub.execute_input": "2024-05-15T17:00:06.849170Z",
     "iopub.status.busy": "2024-05-15T17:00:06.847882Z",
     "iopub.status.idle": "2024-05-15T17:00:06.853907Z",
     "shell.execute_reply": "2024-05-15T17:00:06.852874Z"
    },
    "papermill": {
     "duration": 0.018615,
     "end_time": "2024-05-15T17:00:06.856019",
     "exception": false,
     "start_time": "2024-05-15T17:00:06.837404",
     "status": "completed"
    },
    "tags": []
   },
   "outputs": [],
   "source": [
    "train_path = '/kaggle/input/miccaibrats2019/MICCAI_BraTS_2019_Data_Training/MICCAI_BraTS_2019_Data_Training'\n",
    "hgg_path = train_path + '/HGG'\n",
    "lgg_path = train_path + '/LGG'\n",
    "\n",
    "\n",
    "flair_images = []\n",
    "t1_images = []\n",
    "t1ce_images = []\n",
    "t2_images = []"
   ]
  },
  {
   "cell_type": "code",
   "execution_count": 3,
   "id": "65b5422b",
   "metadata": {
    "execution": {
     "iopub.execute_input": "2024-05-15T17:00:06.877125Z",
     "iopub.status.busy": "2024-05-15T17:00:06.876172Z",
     "iopub.status.idle": "2024-05-15T17:00:06.881790Z",
     "shell.execute_reply": "2024-05-15T17:00:06.880773Z"
    },
    "papermill": {
     "duration": 0.01849,
     "end_time": "2024-05-15T17:00:06.884104",
     "exception": false,
     "start_time": "2024-05-15T17:00:06.865614",
     "status": "completed"
    },
    "tags": []
   },
   "outputs": [],
   "source": [
    "def get_mid_image(img):\n",
    "\n",
    "    image = cv2.split(img)\n",
    "    mid = len(image)//2\n",
    "    #print(mid)\n",
    "    \n",
    "    img2d = image[mid]\n",
    "    \n",
    "   # print(img2d.shape)\n",
    "    \n",
    "    return img2d\n"
   ]
  },
  {
   "cell_type": "code",
   "execution_count": 4,
   "id": "84488850",
   "metadata": {
    "execution": {
     "iopub.execute_input": "2024-05-15T17:00:06.906039Z",
     "iopub.status.busy": "2024-05-15T17:00:06.905205Z",
     "iopub.status.idle": "2024-05-15T17:00:06.910020Z",
     "shell.execute_reply": "2024-05-15T17:00:06.909011Z"
    },
    "papermill": {
     "duration": 0.018634,
     "end_time": "2024-05-15T17:00:06.912396",
     "exception": false,
     "start_time": "2024-05-15T17:00:06.893762",
     "status": "completed"
    },
    "tags": []
   },
   "outputs": [],
   "source": [
    "all_path = []\n",
    "label = []"
   ]
  },
  {
   "cell_type": "code",
   "execution_count": 5,
   "id": "9deb3440",
   "metadata": {
    "execution": {
     "iopub.execute_input": "2024-05-15T17:00:06.933040Z",
     "iopub.status.busy": "2024-05-15T17:00:06.932383Z",
     "iopub.status.idle": "2024-05-15T17:00:06.992205Z",
     "shell.execute_reply": "2024-05-15T17:00:06.991017Z"
    },
    "papermill": {
     "duration": 0.072716,
     "end_time": "2024-05-15T17:00:06.994681",
     "exception": false,
     "start_time": "2024-05-15T17:00:06.921965",
     "status": "completed"
    },
    "tags": []
   },
   "outputs": [
    {
     "name": "stdout",
     "output_type": "stream",
     "text": [
      "259\n",
      "76\n"
     ]
    }
   ],
   "source": [
    "import os\n",
    "\n",
    "all_path = []\n",
    "label = []\n",
    "\n",
    "def get_suffled_path(count):\n",
    "    all_path_with_label = []\n",
    "\n",
    "    for i, filename in enumerate(os.listdir(hgg_path)):\n",
    "        temp_path = os.path.join(hgg_path, filename, filename)\n",
    "        path_with_label = (temp_path, 0)\n",
    "        all_path_with_label.append(path_with_label)\n",
    "        \n",
    "    hgg_len = len(all_path_with_label)\n",
    "    print(hgg_len)\n",
    "\n",
    "       # if i == count - 1:\n",
    "          #  break\n",
    "\n",
    "    for i, filename in enumerate(os.listdir(lgg_path)):\n",
    "        temp_path = os.path.join(lgg_path, filename, filename)\n",
    "        path_with_label = (temp_path, 1)\n",
    "        all_path_with_label.append(path_with_label)\n",
    "    print(len(all_path_with_label)- hgg_len)\n",
    "\n",
    "      #  if i == count - 1:\n",
    "           # break\n",
    "\n",
    "    #for i in all_path_with_label:\n",
    "        #print(i)\n",
    "        \n",
    "    random.shuffle(all_path_with_label)\n",
    "    \n",
    "        \n",
    "    all_path = [t[0] for t in all_path_with_label]\n",
    "    label = [t[1] for t in all_path_with_label]\n",
    "    \n",
    "    return (all_path,label)\n",
    "\n",
    "\n",
    "    #print(all_path)\n",
    "    #print(label)\n",
    "      \n",
    "            \n",
    "temp = get_suffled_path(50)\n",
    "all_path = temp[0]\n",
    "label = temp[1]\n",
    "\n"
   ]
  },
  {
   "cell_type": "code",
   "execution_count": 6,
   "id": "a88e9f49",
   "metadata": {
    "execution": {
     "iopub.execute_input": "2024-05-15T17:00:07.015395Z",
     "iopub.status.busy": "2024-05-15T17:00:07.014667Z",
     "iopub.status.idle": "2024-05-15T17:03:08.799460Z",
     "shell.execute_reply": "2024-05-15T17:03:08.798527Z"
    },
    "papermill": {
     "duration": 181.798088,
     "end_time": "2024-05-15T17:03:08.802294",
     "exception": false,
     "start_time": "2024-05-15T17:00:07.004206",
     "status": "completed"
    },
    "tags": []
   },
   "outputs": [],
   "source": [
    "def all_channel_images(all_path):\n",
    "    \n",
    "    for _path in all_path:\n",
    "        \n",
    "        flair_path = _path+'_flair.nii'\n",
    "        flair_image3d = nib.load(flair_path).get_fdata()\n",
    "        flair_image2d = get_mid_image(flair_image3d)\n",
    "        flair_images.append(flair_image2d)\n",
    "        \n",
    "        t1_path = _path+'_t1.nii'\n",
    "        t1_image3d = nib.load(t1_path).get_fdata()\n",
    "        t1_image2d = get_mid_image(t1_image3d)\n",
    "        t1_images.append(t1_image2d)\n",
    "        \n",
    "        #t1ce_path = _path+'_t1ce.nii'\n",
    "        #t1ce_image3d = nib.load(t1ce_path).get_fdata()\n",
    "        #t1ce_image2d = get_mid_image(t1ce_image3d)\n",
    "        #t1ce_images.append(t1ce_image2d)\n",
    "        \n",
    "        #t2_path = _path+'_t2.nii'\n",
    "        #t2_image3d = nib.load(t2_path).get_fdata()\n",
    "        #t2_image2d = get_mid_image(t2_image3d)\n",
    "        #t2_images.append(t2_image2d)\"\"\"\n",
    "        \n",
    "        \n",
    "all_channel_images(all_path)"
   ]
  },
  {
   "cell_type": "code",
   "execution_count": 7,
   "id": "435dc0e9",
   "metadata": {
    "execution": {
     "iopub.execute_input": "2024-05-15T17:03:08.822588Z",
     "iopub.status.busy": "2024-05-15T17:03:08.822272Z",
     "iopub.status.idle": "2024-05-15T17:03:08.830318Z",
     "shell.execute_reply": "2024-05-15T17:03:08.829327Z"
    },
    "papermill": {
     "duration": 0.020654,
     "end_time": "2024-05-15T17:03:08.832559",
     "exception": false,
     "start_time": "2024-05-15T17:03:08.811905",
     "status": "completed"
    },
    "tags": []
   },
   "outputs": [
    {
     "data": {
      "text/plain": [
       "\"# Create a 10x10 grid of subplots\\nfig, axes = plt.subplots(nrows=4, ncols=5, figsize=(16, 16))\\n\\n# Flatten the axes array to simplify indexing\\naxes = axes.ravel()\\n\\n# Loop over each image and plot it in a subplot\\nfor i in range(len(flair_images)):\\n    axes[i].imshow(flair_images[i], cmap='gray')\\n    axes[i].axis('off')\\n    axes[i].set_title(label[i])\\n    \\n    \\n\\n# Show the plot\\nplt.show()\""
      ]
     },
     "execution_count": 7,
     "metadata": {},
     "output_type": "execute_result"
    }
   ],
   "source": [
    "\"\"\"# Create a 10x10 grid of subplots\n",
    "fig, axes = plt.subplots(nrows=4, ncols=5, figsize=(16, 16))\n",
    "\n",
    "# Flatten the axes array to simplify indexing\n",
    "axes = axes.ravel()\n",
    "\n",
    "# Loop over each image and plot it in a subplot\n",
    "for i in range(len(flair_images)):\n",
    "    axes[i].imshow(flair_images[i], cmap='gray')\n",
    "    axes[i].axis('off')\n",
    "    axes[i].set_title(label[i])\n",
    "    \n",
    "    \n",
    "\n",
    "# Show the plot\n",
    "plt.show()\"\"\""
   ]
  },
  {
   "cell_type": "markdown",
   "id": "44d4d031",
   "metadata": {
    "papermill": {
     "duration": 0.008997,
     "end_time": "2024-05-15T17:03:08.850740",
     "exception": false,
     "start_time": "2024-05-15T17:03:08.841743",
     "status": "completed"
    },
    "tags": []
   },
   "source": [
    "# **Model**"
   ]
  },
  {
   "cell_type": "code",
   "execution_count": 8,
   "id": "03efedfa",
   "metadata": {
    "execution": {
     "iopub.execute_input": "2024-05-15T17:03:08.871903Z",
     "iopub.status.busy": "2024-05-15T17:03:08.871290Z",
     "iopub.status.idle": "2024-05-15T17:03:08.886292Z",
     "shell.execute_reply": "2024-05-15T17:03:08.885328Z"
    },
    "papermill": {
     "duration": 0.027802,
     "end_time": "2024-05-15T17:03:08.888464",
     "exception": false,
     "start_time": "2024-05-15T17:03:08.860662",
     "status": "completed"
    },
    "tags": []
   },
   "outputs": [],
   "source": [
    "def get_model03():\n",
    "    np.random.seed(0)\n",
    "    random.seed(12)\n",
    "    tf.random.set_seed(12)\n",
    "\n",
    "    inpt = keras.Input(shape=X_train.shape[1:])\n",
    "\n",
    "    h = tf.keras.layers.experimental.preprocessing.Rescaling(1.0 / 255)(inpt)\n",
    "    \n",
    "    h = tf.keras.layers.Conv2D(64, kernel_size=(4, 4), activation=\"relu\", name=\"Conv_0\")(h)\n",
    "    h = tf.keras.layers.AveragePooling2D(pool_size=(2, 2))(h)\n",
    "    \n",
    "    h = tf.keras.layers.Conv2D(128, kernel_size=(4, 4), activation=\"relu\", name=\"Conv_1\")(h)\n",
    "    h = tf.keras.layers.AveragePooling2D(pool_size=(2, 2))(h)\n",
    "\n",
    "    h = tf.keras.layers.Conv2D(512, kernel_size=(4, 4), activation=\"relu\", name=\"Conv_2\")(h)\n",
    "    h = tf.keras.layers.MaxPool2D(pool_size=(2, 2))(h)\n",
    "\n",
    "    h = tf.keras.layers.Conv2D(1024, kernel_size=(2, 2), activation=\"relu\", name=\"Conv_3\")(h)\n",
    "    h = tf.keras.layers.MaxPool2D(pool_size=(1, 1))(h)\n",
    "\n",
    "    h = tf.keras.layers.Dropout(0.1)(h)\n",
    "\n",
    "    h = tf.keras.layers.Flatten()(h)\n",
    "    h = tf.keras.layers.Dense(128, activation=\"relu\")(h)\n",
    "\n",
    "    output = tf.keras.layers.Dense(2, activation=\"softmax\")(h)\n",
    "\n",
    "    model = tf.keras.Model(inpt, output)\n",
    "\n",
    "    # https://www.tensorflow.org/api_docs/python/tf/keras/optimizers/schedules/ExponentialDecay\n",
    "    \n",
    "    initial_learning_rate =  0.0001\n",
    "    lr_schedule = tf.keras.optimizers.schedules.ExponentialDecay(\n",
    "        initial_learning_rate,\n",
    "        decay_steps=100000,\n",
    "        decay_rate=0.96, \n",
    "        staircase=True\n",
    "    )\n",
    "  \n",
    "    roc_auc = tf.keras.metrics.AUC(name='roc_auc', curve='ROC')\n",
    "\n",
    "    model.compile(\n",
    "        loss=\"categorical_crossentropy\", \n",
    "#         loss=\"binary_crossentropy\", \n",
    "        \n",
    "        optimizer=keras.optimizers.Adam(learning_rate=lr_schedule),\n",
    "       # optimizer=keras.optimizers.Adam(),\n",
    "\n",
    "        metrics=[roc_auc],\n",
    "    )\n",
    "    return model"
   ]
  },
  {
   "cell_type": "code",
   "execution_count": 9,
   "id": "e0dad510",
   "metadata": {
    "execution": {
     "iopub.execute_input": "2024-05-15T17:03:08.908129Z",
     "iopub.status.busy": "2024-05-15T17:03:08.907431Z",
     "iopub.status.idle": "2024-05-15T17:03:08.912747Z",
     "shell.execute_reply": "2024-05-15T17:03:08.911787Z"
    },
    "papermill": {
     "duration": 0.017316,
     "end_time": "2024-05-15T17:03:08.914954",
     "exception": false,
     "start_time": "2024-05-15T17:03:08.897638",
     "status": "completed"
    },
    "tags": []
   },
   "outputs": [],
   "source": [
    "checkpoint_filepath = \"best_model.h5\"\n",
    "\n",
    "model_checkpoint_cb = tf.keras.callbacks.ModelCheckpoint(\n",
    "    filepath=checkpoint_filepath,\n",
    "    save_weights_only=False,\n",
    "    monitor=\"val_roc_auc\",\n",
    "    mode=\"max\",\n",
    "    save_best_only=True,\n",
    "    save_freq=\"epoch\",\n",
    "    verbose=1,\n",
    ")"
   ]
  },
  {
   "cell_type": "code",
   "execution_count": 10,
   "id": "7857d006",
   "metadata": {
    "execution": {
     "iopub.execute_input": "2024-05-15T17:03:08.934496Z",
     "iopub.status.busy": "2024-05-15T17:03:08.933964Z",
     "iopub.status.idle": "2024-05-15T17:03:08.938522Z",
     "shell.execute_reply": "2024-05-15T17:03:08.937546Z"
    },
    "papermill": {
     "duration": 0.016776,
     "end_time": "2024-05-15T17:03:08.940790",
     "exception": false,
     "start_time": "2024-05-15T17:03:08.924014",
     "status": "completed"
    },
    "tags": []
   },
   "outputs": [],
   "source": [
    "# early_stopping_cb = tf.keras.callbacks.EarlyStopping(monitor=tf.keras.metrics.AUC(), mode='auto', verbose=1, patience=5)\n",
    "# early_stopping_cb = tf.keras.callbacks.EarlyStopping(monitor=\"val_acc\", patience=15)\n",
    "early_stopping_cb = tf.keras.callbacks.EarlyStopping(monitor=\"val_roc_auc\", mode='max', patience=5)"
   ]
  },
  {
   "cell_type": "code",
   "execution_count": 11,
   "id": "a8a53228",
   "metadata": {
    "execution": {
     "iopub.execute_input": "2024-05-15T17:03:08.959960Z",
     "iopub.status.busy": "2024-05-15T17:03:08.959662Z",
     "iopub.status.idle": "2024-05-15T17:03:11.202231Z",
     "shell.execute_reply": "2024-05-15T17:03:11.201043Z"
    },
    "papermill": {
     "duration": 2.254582,
     "end_time": "2024-05-15T17:03:11.204456",
     "exception": false,
     "start_time": "2024-05-15T17:03:08.949874",
     "status": "completed"
    },
    "tags": []
   },
   "outputs": [
    {
     "name": "stdout",
     "output_type": "stream",
     "text": [
      "(335, 240, 240) (335,)\n",
      "(268, 240, 240) (268,)\n",
      "(268, 240, 240) (268,)\n",
      "(268, 240, 240, 1)\n",
      "(67, 240, 240, 1)\n",
      "(268,)\n",
      "(67,)\n"
     ]
    }
   ],
   "source": [
    "#reshaping\n",
    "\n",
    "train_image = np.array(flair_images)\n",
    "train_label = np.array(label)\n",
    "\n",
    "print(train_image.shape,train_label.shape)\n",
    "\n",
    "X_train, X_valid, y_train, y_valid= train_test_split(train_image, train_label, test_size=0.2, random_state=42)\n",
    "print(X_train.shape,y_train.shape)\n",
    "print(X_train.shape,y_train.shape)\n",
    "\n",
    "\n",
    "X_train = tf.expand_dims(X_train, axis=-1)\n",
    "X_valid = tf.expand_dims(X_valid, axis=-1)\n",
    "\n",
    "print(X_train.shape)\n",
    "print(X_valid.shape)\n",
    "\n",
    "print(y_train.shape)\n",
    "print(y_valid.shape)"
   ]
  },
  {
   "cell_type": "code",
   "execution_count": 12,
   "id": "afa911db",
   "metadata": {
    "execution": {
     "iopub.execute_input": "2024-05-15T17:03:11.225196Z",
     "iopub.status.busy": "2024-05-15T17:03:11.224564Z",
     "iopub.status.idle": "2024-05-15T17:03:11.230240Z",
     "shell.execute_reply": "2024-05-15T17:03:11.229081Z"
    },
    "papermill": {
     "duration": 0.018494,
     "end_time": "2024-05-15T17:03:11.232501",
     "exception": false,
     "start_time": "2024-05-15T17:03:11.214007",
     "status": "completed"
    },
    "tags": []
   },
   "outputs": [
    {
     "name": "stdout",
     "output_type": "stream",
     "text": [
      "[0 0 0 0 0 0 0 0 0 0 1 0 1 0 0 0 0 0 0 0 0 0 0 0 0 0 0 0 0 0 1 0 1 0 1 0 0\n",
      " 1 0 1 0 0 0 1 0 1 0 0 1 0 0 0 0 1 0 0 0 1 0 1 1 1 0 0 0 1 0]\n"
     ]
    }
   ],
   "source": [
    "print(y_valid)"
   ]
  },
  {
   "cell_type": "code",
   "execution_count": 13,
   "id": "090b30f6",
   "metadata": {
    "execution": {
     "iopub.execute_input": "2024-05-15T17:03:11.252682Z",
     "iopub.status.busy": "2024-05-15T17:03:11.252038Z",
     "iopub.status.idle": "2024-05-15T17:03:11.258743Z",
     "shell.execute_reply": "2024-05-15T17:03:11.257628Z"
    },
    "papermill": {
     "duration": 0.019066,
     "end_time": "2024-05-15T17:03:11.260883",
     "exception": false,
     "start_time": "2024-05-15T17:03:11.241817",
     "status": "completed"
    },
    "tags": []
   },
   "outputs": [
    {
     "name": "stdout",
     "output_type": "stream",
     "text": [
      "(268, 2)\n",
      "(67, 2)\n"
     ]
    }
   ],
   "source": [
    "from tensorflow.keras.utils import to_categorical\n",
    "\n",
    "\n",
    "\n",
    "y_train = to_categorical(y_train)\n",
    "y_valid = to_categorical(y_valid)\n",
    "\n",
    "print(y_train.shape)\n",
    "print(y_valid.shape)\n",
    "\n",
    "#y_train = keras.utils.to_categorical(y_train)\n",
    "#y_valid = keras.utils.to_categorical(y_valid)\n",
    "\n",
    "#print(y_train.shape)\n",
    "#print(y_valid.shape)\n",
    "\n",
    "#print(y_valid)"
   ]
  },
  {
   "cell_type": "code",
   "execution_count": 14,
   "id": "3b526321",
   "metadata": {
    "execution": {
     "iopub.execute_input": "2024-05-15T17:03:11.281110Z",
     "iopub.status.busy": "2024-05-15T17:03:11.280560Z",
     "iopub.status.idle": "2024-05-15T17:03:11.494862Z",
     "shell.execute_reply": "2024-05-15T17:03:11.493785Z"
    },
    "papermill": {
     "duration": 0.241359,
     "end_time": "2024-05-15T17:03:11.511618",
     "exception": false,
     "start_time": "2024-05-15T17:03:11.270259",
     "status": "completed"
    },
    "tags": []
   },
   "outputs": [
    {
     "name": "stdout",
     "output_type": "stream",
     "text": [
      "Model: \"model\"\n",
      "_________________________________________________________________\n",
      " Layer (type)                Output Shape              Param #   \n",
      "=================================================================\n",
      " input_1 (InputLayer)        [(None, 240, 240, 1)]     0         \n",
      "                                                                 \n",
      " rescaling (Rescaling)       (None, 240, 240, 1)       0         \n",
      "                                                                 \n",
      " Conv_0 (Conv2D)             (None, 237, 237, 64)      1088      \n",
      "                                                                 \n",
      " average_pooling2d (AverageP  (None, 118, 118, 64)     0         \n",
      " ooling2D)                                                       \n",
      "                                                                 \n",
      " Conv_1 (Conv2D)             (None, 115, 115, 128)     131200    \n",
      "                                                                 \n",
      " average_pooling2d_1 (Averag  (None, 57, 57, 128)      0         \n",
      " ePooling2D)                                                     \n",
      "                                                                 \n",
      " Conv_2 (Conv2D)             (None, 54, 54, 512)       1049088   \n",
      "                                                                 \n",
      " max_pooling2d (MaxPooling2D  (None, 27, 27, 512)      0         \n",
      " )                                                               \n",
      "                                                                 \n",
      " Conv_3 (Conv2D)             (None, 26, 26, 1024)      2098176   \n",
      "                                                                 \n",
      " max_pooling2d_1 (MaxPooling  (None, 26, 26, 1024)     0         \n",
      " 2D)                                                             \n",
      "                                                                 \n",
      " dropout (Dropout)           (None, 26, 26, 1024)      0         \n",
      "                                                                 \n",
      " flatten (Flatten)           (None, 692224)            0         \n",
      "                                                                 \n",
      " dense (Dense)               (None, 128)               88604800  \n",
      "                                                                 \n",
      " dense_1 (Dense)             (None, 2)                 258       \n",
      "                                                                 \n",
      "=================================================================\n",
      "Total params: 91,884,610\n",
      "Trainable params: 91,884,610\n",
      "Non-trainable params: 0\n",
      "_________________________________________________________________\n"
     ]
    }
   ],
   "source": [
    "model = get_model03() # LB score 0.5\n",
    "model.summary()"
   ]
  },
  {
   "cell_type": "code",
   "execution_count": 15,
   "id": "a47b2cb7",
   "metadata": {
    "execution": {
     "iopub.execute_input": "2024-05-15T17:03:11.538595Z",
     "iopub.status.busy": "2024-05-15T17:03:11.537837Z",
     "iopub.status.idle": "2024-05-15T17:03:11.543733Z",
     "shell.execute_reply": "2024-05-15T17:03:11.542586Z"
    },
    "papermill": {
     "duration": 0.021533,
     "end_time": "2024-05-15T17:03:11.545931",
     "exception": false,
     "start_time": "2024-05-15T17:03:11.524398",
     "status": "completed"
    },
    "tags": []
   },
   "outputs": [
    {
     "name": "stdout",
     "output_type": "stream",
     "text": [
      "(268, 240, 240, 1)\n",
      "(67, 240, 240, 1)\n",
      "(268, 2)\n",
      "(67, 2)\n"
     ]
    }
   ],
   "source": [
    "print(X_train.shape)\n",
    "print(X_valid.shape)\n",
    "\n",
    "print(y_train.shape)\n",
    "print(y_valid.shape)"
   ]
  },
  {
   "cell_type": "code",
   "execution_count": 16,
   "id": "7ddcf9a1",
   "metadata": {
    "execution": {
     "iopub.execute_input": "2024-05-15T17:03:11.572589Z",
     "iopub.status.busy": "2024-05-15T17:03:11.571872Z",
     "iopub.status.idle": "2024-05-15T17:03:37.646979Z",
     "shell.execute_reply": "2024-05-15T17:03:37.646067Z"
    },
    "papermill": {
     "duration": 26.090987,
     "end_time": "2024-05-15T17:03:37.649376",
     "exception": false,
     "start_time": "2024-05-15T17:03:11.558389",
     "status": "completed"
    },
    "tags": []
   },
   "outputs": [
    {
     "name": "stdout",
     "output_type": "stream",
     "text": [
      "Epoch 1/10\n"
     ]
    },
    {
     "name": "stderr",
     "output_type": "stream",
     "text": [
      "2024-05-15 17:03:12.515173: E tensorflow/core/grappler/optimizers/meta_optimizer.cc:954] layout failed: INVALID_ARGUMENT: Size of values 0 does not match size of permutation 4 @ fanin shape inmodel/dropout/dropout/SelectV2-2-TransposeNHWCToNCHW-LayoutOptimizer\n"
     ]
    },
    {
     "name": "stdout",
     "output_type": "stream",
     "text": [
      "9/9 [==============================] - 11s 364ms/step - loss: 0.7617 - roc_auc: 0.6511 - val_loss: 0.7042 - val_roc_auc: 0.2976\n",
      "Epoch 2/10\n",
      "9/9 [==============================] - 2s 187ms/step - loss: 0.7003 - roc_auc: 0.5818 - val_loss: 0.6838 - val_roc_auc: 0.7534\n",
      "Epoch 3/10\n",
      "9/9 [==============================] - 2s 187ms/step - loss: 0.6731 - roc_auc: 0.8184 - val_loss: 0.6502 - val_roc_auc: 0.8098\n",
      "Epoch 4/10\n",
      "9/9 [==============================] - 2s 188ms/step - loss: 0.6166 - roc_auc: 0.7964 - val_loss: 0.5272 - val_roc_auc: 0.8187\n",
      "Epoch 5/10\n",
      "9/9 [==============================] - 2s 187ms/step - loss: 0.4926 - roc_auc: 0.8423 - val_loss: 0.5220 - val_roc_auc: 0.8178\n",
      "Epoch 6/10\n",
      "9/9 [==============================] - 2s 187ms/step - loss: 0.4678 - roc_auc: 0.8596 - val_loss: 0.5105 - val_roc_auc: 0.8173\n",
      "Epoch 7/10\n",
      "9/9 [==============================] - 2s 187ms/step - loss: 0.4634 - roc_auc: 0.8643 - val_loss: 0.5147 - val_roc_auc: 0.8182\n",
      "Epoch 8/10\n",
      "9/9 [==============================] - 2s 187ms/step - loss: 0.4619 - roc_auc: 0.8682 - val_loss: 0.5098 - val_roc_auc: 0.8205\n",
      "Epoch 9/10\n",
      "9/9 [==============================] - 2s 187ms/step - loss: 0.4601 - roc_auc: 0.8691 - val_loss: 0.5066 - val_roc_auc: 0.8211\n",
      "Epoch 10/10\n",
      "9/9 [==============================] - 2s 187ms/step - loss: 0.4420 - roc_auc: 0.8784 - val_loss: 0.5092 - val_roc_auc: 0.8305\n"
     ]
    }
   ],
   "source": [
    "# history = model.fit(x=X_train, y = y_train, epochs=20, \n",
    "#                     callbacks=[model_checkpoint_cb], \n",
    "#                   validation_data=(X_valid, y_valid))\n",
    "epochs = 10\n",
    "history = model.fit(x=X_train, y = y_train, epochs=epochs, \n",
    "                    #callbacks=[model_checkpoint_cb, early_stopping_cb],\n",
    "                    validation_data=(X_valid, y_valid))"
   ]
  },
  {
   "cell_type": "code",
   "execution_count": 17,
   "id": "f3011755",
   "metadata": {
    "execution": {
     "iopub.execute_input": "2024-05-15T17:03:37.694286Z",
     "iopub.status.busy": "2024-05-15T17:03:37.693940Z",
     "iopub.status.idle": "2024-05-15T17:03:38.109467Z",
     "shell.execute_reply": "2024-05-15T17:03:38.108450Z"
    },
    "papermill": {
     "duration": 0.440965,
     "end_time": "2024-05-15T17:03:38.111932",
     "exception": false,
     "start_time": "2024-05-15T17:03:37.670967",
     "status": "completed"
    },
    "tags": []
   },
   "outputs": [
    {
     "data": {
      "image/png": "[encoded data removed]",
      "text/plain": [
       "<Figure size 1000x400 with 2 Axes>"
      ]
     },
     "metadata": {},
     "output_type": "display_data"
    }
   ],
   "source": [
    "import matplotlib.pyplot as plt\n",
    "\n",
    "fig, axs = plt.subplots(2, 2, figsize=(10, 4))\n",
    "\n",
    "plt.subplot(1, 2, 1)\n",
    "\n",
    "plt.plot(history.history['roc_auc'])\n",
    "plt.plot(history.history['val_roc_auc'])\n",
    "plt.title('Model Accuracy')\n",
    "plt.ylabel('Accuracy')\n",
    "plt.xlabel('Epoch')\n",
    "plt.legend(['Train', 'Validation'], loc='upper left')\n",
    "\n",
    "\n",
    "plt.subplot(1, 2, 2)\n",
    "\n",
    "import matplotlib.pyplot as plt\n",
    "\n",
    "plt.plot(history.history['loss'])\n",
    "plt.plot(history.history['val_loss'])\n",
    "plt.title('Model Loss')\n",
    "plt.ylabel('loss')\n",
    "plt.xlabel('Epoch')\n",
    "plt.legend(['Train', 'Validation'], loc='upper left')\n",
    "plt.show()"
   ]
  },
  {
   "cell_type": "code",
   "execution_count": 18,
   "id": "7439d2b6",
   "metadata": {
    "execution": {
     "iopub.execute_input": "2024-05-15T17:03:38.157421Z",
     "iopub.status.busy": "2024-05-15T17:03:38.156481Z",
     "iopub.status.idle": "2024-05-15T17:03:38.429885Z",
     "shell.execute_reply": "2024-05-15T17:03:38.428411Z"
    },
    "papermill": {
     "duration": 0.298454,
     "end_time": "2024-05-15T17:03:38.432335",
     "exception": false,
     "start_time": "2024-05-15T17:03:38.133881",
     "status": "completed"
    },
    "tags": []
   },
   "outputs": [
    {
     "name": "stdout",
     "output_type": "stream",
     "text": [
      "3/3 [==============================] - 0s 35ms/step\n",
      "              precision    recall  f1-score   support\n",
      "\n",
      "           0       0.77      1.00      0.87        51\n",
      "           1       1.00      0.06      0.12        16\n",
      "\n",
      "    accuracy                           0.78        67\n",
      "   macro avg       0.89      0.53      0.49        67\n",
      "weighted avg       0.83      0.78      0.69        67\n",
      "\n"
     ]
    }
   ],
   "source": [
    "from sklearn.metrics import classification_report,confusion_matrix\n",
    "\n",
    "pred = model.predict(X_valid)\n",
    "\n",
    "pred = np.argmax(pred,axis=1)\n",
    "\n",
    "y_test_new = np.argmax(y_valid,axis=1)\n",
    "\n",
    "print(classification_report(y_test_new,pred))"
   ]
  },
  {
   "cell_type": "markdown",
   "id": "e6fabae8",
   "metadata": {
    "papermill": {
     "duration": 0.021639,
     "end_time": "2024-05-15T17:03:38.476901",
     "exception": false,
     "start_time": "2024-05-15T17:03:38.455262",
     "status": "completed"
    },
    "tags": []
   },
   "source": [
    "# **Fusion Model**"
   ]
  },
  {
   "cell_type": "code",
   "execution_count": 19,
   "id": "02c7a9de",
   "metadata": {
    "execution": {
     "iopub.execute_input": "2024-05-15T17:03:38.522408Z",
     "iopub.status.busy": "2024-05-15T17:03:38.521536Z",
     "iopub.status.idle": "2024-05-15T17:03:38.528711Z",
     "shell.execute_reply": "2024-05-15T17:03:38.527852Z"
    },
    "papermill": {
     "duration": 0.032245,
     "end_time": "2024-05-15T17:03:38.530928",
     "exception": false,
     "start_time": "2024-05-15T17:03:38.498683",
     "status": "completed"
    },
    "tags": []
   },
   "outputs": [],
   "source": [
    "#reshaping\n",
    "\n",
    "def reshaping(input_images):\n",
    "\n",
    "    train_image = np.array(input_images)\n",
    "    train_label = np.array(label)\n",
    "\n",
    "    #print(train_image.shape,train_label.shape)\n",
    "\n",
    "    X_train, X_valid, y_train, y_valid= train_test_split(train_image, train_label, test_size=0.2, random_state=42)\n",
    "   # print(X_train.shape,y_train.shape)\n",
    "   # print(X_train.shape,y_train.shape)\n",
    "\n",
    "\n",
    "    X_train = tf.expand_dims(X_train, axis=-1)\n",
    "    X_valid = tf.expand_dims(X_valid, axis=-1)\n",
    "    \n",
    "    return X_train,X_valid,y_train,y_valid"
   ]
  },
  {
   "cell_type": "code",
   "execution_count": 20,
   "id": "f8d31b28",
   "metadata": {
    "execution": {
     "iopub.execute_input": "2024-05-15T17:03:38.575669Z",
     "iopub.status.busy": "2024-05-15T17:03:38.575052Z",
     "iopub.status.idle": "2024-05-15T17:03:39.099063Z",
     "shell.execute_reply": "2024-05-15T17:03:39.097793Z"
    },
    "papermill": {
     "duration": 0.548936,
     "end_time": "2024-05-15T17:03:39.101350",
     "exception": false,
     "start_time": "2024-05-15T17:03:38.552414",
     "status": "completed"
    },
    "tags": []
   },
   "outputs": [
    {
     "name": "stdout",
     "output_type": "stream",
     "text": [
      "(268, 240, 240, 1)\n",
      "(67, 240, 240, 1)\n",
      "(268,)\n",
      "(67,)\n",
      "(268, 240, 240, 1)\n",
      "(67, 240, 240, 1)\n",
      "(268,)\n",
      "(67,)\n",
      "[0 0 0 0 0 0 0 0 0 0 0 0 0 1 0 1 0 0 0 0 0 1 1 0 0 1 0 0 0 0 1 0 0 0 0 0 0\n",
      " 1 0 0 0 0 1 1 0 0 0 0 0 1 1 0 0 0 1 0 0 0 0 0 0 0 0 0 0 0 0 0 0 0 0 0 0 1\n",
      " 0 0 1 1 1 0 0 0 1 0 0 1 0 0 1 1 0 0 0 0 0 0 0 0 1 0 0 1 0 1 0 0 0 0 0 0 0\n",
      " 1 0 1 0 0 0 0 1 0 0 0 0 0 0 0 0 1 1 1 1 0 1 1 0 0 0 0 0 0 0 0 1 1 0 0 1 1\n",
      " 0 0 1 0 0 1 1 0 0 0 0 0 0 0 0 0 0 1 0 0 0 1 0 0 0 0 1 0 0 0 0 0 0 0 0 0 0\n",
      " 0 0 0 0 0 0 0 0 1 1 0 0 1 0 0 0 0 0 1 0 0 1 1 0 0 0 0 0 0 0 1 0 0 0 1 0 1\n",
      " 1 0 0 0 0 0 0 0 0 0 0 0 0 0 0 0 0 0 0 1 0 0 1 0 0 0 0 0 0 0 1 0 1 0 0 0 0\n",
      " 0 0 0 1 0 1 0 1 1]\n"
     ]
    }
   ],
   "source": [
    "X_train_flair,X_valid_flair,y_train_flair,y_valid_flair = reshaping(flair_images)\n",
    "\n",
    "print(X_train_flair.shape)\n",
    "print(X_valid_flair.shape)\n",
    "\n",
    "print(y_train_flair.shape)\n",
    "print(y_valid_flair.shape)\n",
    "\n",
    "X_train_t1,X_valid_t1,y_train_t1,y_valid_t1 = reshaping(t1_images)\n",
    "\n",
    "print(X_train_t1.shape)\n",
    "print(X_valid_t1.shape)\n",
    "\n",
    "print(y_train_t1.shape)\n",
    "print(y_valid_t1.shape)\n",
    "\n",
    "\n",
    "\n",
    "print(y_train_flair)"
   ]
  },
  {
   "cell_type": "code",
   "execution_count": 21,
   "id": "a747e48f",
   "metadata": {
    "execution": {
     "iopub.execute_input": "2024-05-15T17:03:39.147381Z",
     "iopub.status.busy": "2024-05-15T17:03:39.146550Z",
     "iopub.status.idle": "2024-05-15T17:03:39.152564Z",
     "shell.execute_reply": "2024-05-15T17:03:39.151609Z"
    },
    "papermill": {
     "duration": 0.031693,
     "end_time": "2024-05-15T17:03:39.155323",
     "exception": false,
     "start_time": "2024-05-15T17:03:39.123630",
     "status": "completed"
    },
    "tags": []
   },
   "outputs": [
    {
     "name": "stdout",
     "output_type": "stream",
     "text": [
      "(268, 2)\n",
      "(67, 2)\n"
     ]
    }
   ],
   "source": [
    "from tensorflow.keras.utils import to_categorical\n",
    "\n",
    "\n",
    "\n",
    "y_train = to_categorical(y_train_flair)\n",
    "y_valid = to_categorical(y_valid_flair)\n",
    "\n",
    "print(y_train.shape)\n",
    "print(y_valid.shape)\n"
   ]
  },
  {
   "cell_type": "code",
   "execution_count": null,
   "id": "396fc76d",
   "metadata": {
    "papermill": {
     "duration": 0.021813,
     "end_time": "2024-05-15T17:03:39.199121",
     "exception": false,
     "start_time": "2024-05-15T17:03:39.177308",
     "status": "completed"
    },
    "tags": []
   },
   "outputs": [],
   "source": []
  },
  {
   "cell_type": "code",
   "execution_count": 22,
   "id": "6aa528e3",
   "metadata": {
    "execution": {
     "iopub.execute_input": "2024-05-15T17:03:39.244964Z",
     "iopub.status.busy": "2024-05-15T17:03:39.244445Z",
     "iopub.status.idle": "2024-05-15T17:03:39.254449Z",
     "shell.execute_reply": "2024-05-15T17:03:39.253649Z"
    },
    "papermill": {
     "duration": 0.035115,
     "end_time": "2024-05-15T17:03:39.256624",
     "exception": false,
     "start_time": "2024-05-15T17:03:39.221509",
     "status": "completed"
    },
    "tags": []
   },
   "outputs": [],
   "source": [
    "def get_conv_model(input_layer):\n",
    "    h = tf.keras.layers.experimental.preprocessing.Rescaling(1.0 / 255)(input_layer)\n",
    "\n",
    "    h = tf.keras.layers.Conv2D(64, kernel_size=(4, 4), activation=\"relu\")(h)\n",
    "    h = tf.keras.layers.AveragePooling2D(pool_size=(2, 2))(h)\n",
    "\n",
    "    h = tf.keras.layers.Conv2D(128, kernel_size=(4, 4), activation=\"relu\")(h)\n",
    "    h = tf.keras.layers.AveragePooling2D(pool_size=(2, 2))(h)\n",
    "\n",
    "    h = tf.keras.layers.Conv2D(512, kernel_size=(4, 4), activation=\"relu\")(h)\n",
    "    h = tf.keras.layers.MaxPool2D(pool_size=(2, 2))(h)\n",
    "\n",
    "    h = tf.keras.layers.Conv2D(1024, kernel_size=(2, 2), activation=\"relu\")(h)\n",
    "    h = tf.keras.layers.MaxPool2D(pool_size=(1, 1))(h)\n",
    "\n",
    "    h = tf.keras.layers.Dropout(0.1)(h)\n",
    "\n",
    "    h = tf.keras.layers.Flatten()(h)\n",
    "    return h\n"
   ]
  },
  {
   "cell_type": "code",
   "execution_count": 23,
   "id": "3acdfefb",
   "metadata": {
    "execution": {
     "iopub.execute_input": "2024-05-15T17:03:39.302589Z",
     "iopub.status.busy": "2024-05-15T17:03:39.301884Z",
     "iopub.status.idle": "2024-05-15T17:03:39.455470Z",
     "shell.execute_reply": "2024-05-15T17:03:39.454678Z"
    },
    "papermill": {
     "duration": 0.179281,
     "end_time": "2024-05-15T17:03:39.457842",
     "exception": false,
     "start_time": "2024-05-15T17:03:39.278561",
     "status": "completed"
    },
    "tags": []
   },
   "outputs": [],
   "source": [
    "input_1 = keras.Input(shape=X_train_flair.shape[1:])\n",
    "h1 = get_conv_model(input_1)\n",
    "\n",
    "input_2 = keras.Input(shape=X_train_t1.shape[1:])\n",
    "h2 = get_conv_model(input_2)\n",
    "\n",
    "h_concat = tf.keras.layers.Concatenate()([h1, h2])\n",
    "\n",
    "h_concat = tf.keras.layers.Dense(128, activation=\"relu\")(h_concat)\n",
    "\n",
    "output = tf.keras.layers.Dense(2, activation=\"softmax\")(h_concat)\n",
    "\n",
    "model = tf.keras.Model(inputs=[input_1, input_2], outputs=output)\n"
   ]
  },
  {
   "cell_type": "code",
   "execution_count": 24,
   "id": "3f96f24a",
   "metadata": {
    "execution": {
     "iopub.execute_input": "2024-05-15T17:03:39.503142Z",
     "iopub.status.busy": "2024-05-15T17:03:39.502789Z",
     "iopub.status.idle": "2024-05-15T17:03:39.519066Z",
     "shell.execute_reply": "2024-05-15T17:03:39.518275Z"
    },
    "papermill": {
     "duration": 0.041238,
     "end_time": "2024-05-15T17:03:39.521182",
     "exception": false,
     "start_time": "2024-05-15T17:03:39.479944",
     "status": "completed"
    },
    "tags": []
   },
   "outputs": [],
   "source": [
    "initial_learning_rate =  0.0001\n",
    "lr_schedule = tf.keras.optimizers.schedules.ExponentialDecay(\n",
    "        initial_learning_rate,\n",
    "        decay_steps=100000,\n",
    "        decay_rate=0.96, \n",
    "        staircase=True\n",
    "    )\n",
    "  \n",
    "roc_auc = tf.keras.metrics.AUC(name='roc_auc', curve='ROC')\n",
    "\n",
    "model.compile(\n",
    "        loss=\"categorical_crossentropy\", \n",
    "#         loss=\"binary_crossentropy\", \n",
    "        \n",
    "        optimizer=keras.optimizers.Adam(learning_rate=lr_schedule),\n",
    "       # optimizer=keras.optimizers.Adam(),\n",
    "\n",
    "        metrics=[roc_auc],\n",
    "    )"
   ]
  },
  {
   "cell_type": "code",
   "execution_count": 25,
   "id": "5af07649",
   "metadata": {
    "execution": {
     "iopub.execute_input": "2024-05-15T17:03:39.566571Z",
     "iopub.status.busy": "2024-05-15T17:03:39.566281Z",
     "iopub.status.idle": "2024-05-15T17:03:39.652069Z",
     "shell.execute_reply": "2024-05-15T17:03:39.651021Z"
    },
    "papermill": {
     "duration": 0.130101,
     "end_time": "2024-05-15T17:03:39.673422",
     "exception": false,
     "start_time": "2024-05-15T17:03:39.543321",
     "status": "completed"
    },
    "tags": []
   },
   "outputs": [
    {
     "name": "stdout",
     "output_type": "stream",
     "text": [
      "Model: \"model_1\"\n",
      "__________________________________________________________________________________________________\n",
      " Layer (type)                   Output Shape         Param #     Connected to                     \n",
      "==================================================================================================\n",
      " input_2 (InputLayer)           [(None, 240, 240, 1  0           []                               \n",
      "                                )]                                                                \n",
      "                                                                                                  \n",
      " input_3 (InputLayer)           [(None, 240, 240, 1  0           []                               \n",
      "                                )]                                                                \n",
      "                                                                                                  \n",
      " rescaling_1 (Rescaling)        (None, 240, 240, 1)  0           ['input_2[0][0]']                \n",
      "                                                                                                  \n",
      " rescaling_2 (Rescaling)        (None, 240, 240, 1)  0           ['input_3[0][0]']                \n",
      "                                                                                                  \n",
      " conv2d (Conv2D)                (None, 237, 237, 64  1088        ['rescaling_1[0][0]']            \n",
      "                                )                                                                 \n",
      "                                                                                                  \n",
      " conv2d_4 (Conv2D)              (None, 237, 237, 64  1088        ['rescaling_2[0][0]']            \n",
      "                                )                                                                 \n",
      "                                                                                                  \n",
      " average_pooling2d_2 (AveragePo  (None, 118, 118, 64  0          ['conv2d[0][0]']                 \n",
      " oling2D)                       )                                                                 \n",
      "                                                                                                  \n",
      " average_pooling2d_4 (AveragePo  (None, 118, 118, 64  0          ['conv2d_4[0][0]']               \n",
      " oling2D)                       )                                                                 \n",
      "                                                                                                  \n",
      " conv2d_1 (Conv2D)              (None, 115, 115, 12  131200      ['average_pooling2d_2[0][0]']    \n",
      "                                8)                                                                \n",
      "                                                                                                  \n",
      " conv2d_5 (Conv2D)              (None, 115, 115, 12  131200      ['average_pooling2d_4[0][0]']    \n",
      "                                8)                                                                \n",
      "                                                                                                  \n",
      " average_pooling2d_3 (AveragePo  (None, 57, 57, 128)  0          ['conv2d_1[0][0]']               \n",
      " oling2D)                                                                                         \n",
      "                                                                                                  \n",
      " average_pooling2d_5 (AveragePo  (None, 57, 57, 128)  0          ['conv2d_5[0][0]']               \n",
      " oling2D)                                                                                         \n",
      "                                                                                                  \n",
      " conv2d_2 (Conv2D)              (None, 54, 54, 512)  1049088     ['average_pooling2d_3[0][0]']    \n",
      "                                                                                                  \n",
      " conv2d_6 (Conv2D)              (None, 54, 54, 512)  1049088     ['average_pooling2d_5[0][0]']    \n",
      "                                                                                                  \n",
      " max_pooling2d_2 (MaxPooling2D)  (None, 27, 27, 512)  0          ['conv2d_2[0][0]']               \n",
      "                                                                                                  \n",
      " max_pooling2d_4 (MaxPooling2D)  (None, 27, 27, 512)  0          ['conv2d_6[0][0]']               \n",
      "                                                                                                  \n",
      " conv2d_3 (Conv2D)              (None, 26, 26, 1024  2098176     ['max_pooling2d_2[0][0]']        \n",
      "                                )                                                                 \n",
      "                                                                                                  \n",
      " conv2d_7 (Conv2D)              (None, 26, 26, 1024  2098176     ['max_pooling2d_4[0][0]']        \n",
      "                                )                                                                 \n",
      "                                                                                                  \n",
      " max_pooling2d_3 (MaxPooling2D)  (None, 26, 26, 1024  0          ['conv2d_3[0][0]']               \n",
      "                                )                                                                 \n",
      "                                                                                                  \n",
      " max_pooling2d_5 (MaxPooling2D)  (None, 26, 26, 1024  0          ['conv2d_7[0][0]']               \n",
      "                                )                                                                 \n",
      "                                                                                                  \n",
      " dropout_1 (Dropout)            (None, 26, 26, 1024  0           ['max_pooling2d_3[0][0]']        \n",
      "                                )                                                                 \n",
      "                                                                                                  \n",
      " dropout_2 (Dropout)            (None, 26, 26, 1024  0           ['max_pooling2d_5[0][0]']        \n",
      "                                )                                                                 \n",
      "                                                                                                  \n",
      " flatten_1 (Flatten)            (None, 692224)       0           ['dropout_1[0][0]']              \n",
      "                                                                                                  \n",
      " flatten_2 (Flatten)            (None, 692224)       0           ['dropout_2[0][0]']              \n",
      "                                                                                                  \n",
      " concatenate (Concatenate)      (None, 1384448)      0           ['flatten_1[0][0]',              \n",
      "                                                                  'flatten_2[0][0]']              \n",
      "                                                                                                  \n",
      " dense_2 (Dense)                (None, 128)          177209472   ['concatenate[0][0]']            \n",
      "                                                                                                  \n",
      " dense_3 (Dense)                (None, 2)            258         ['dense_2[0][0]']                \n",
      "                                                                                                  \n",
      "==================================================================================================\n",
      "Total params: 183,768,834\n",
      "Trainable params: 183,768,834\n",
      "Non-trainable params: 0\n",
      "__________________________________________________________________________________________________\n"
     ]
    }
   ],
   "source": [
    "model.summary()"
   ]
  },
  {
   "cell_type": "code",
   "execution_count": 26,
   "id": "160e0374",
   "metadata": {
    "execution": {
     "iopub.execute_input": "2024-05-15T17:03:39.731880Z",
     "iopub.status.busy": "2024-05-15T17:03:39.731538Z",
     "iopub.status.idle": "2024-05-15T17:04:13.951731Z",
     "shell.execute_reply": "2024-05-15T17:04:13.950053Z"
    },
    "papermill": {
     "duration": 34.252671,
     "end_time": "2024-05-15T17:04:13.955285",
     "exception": false,
     "start_time": "2024-05-15T17:03:39.702614",
     "status": "completed"
    },
    "tags": []
   },
   "outputs": [
    {
     "name": "stdout",
     "output_type": "stream",
     "text": [
      "Epoch 1/10\n"
     ]
    },
    {
     "name": "stderr",
     "output_type": "stream",
     "text": [
      "2024-05-15 17:03:40.860380: E tensorflow/core/grappler/optimizers/meta_optimizer.cc:954] layout failed: INVALID_ARGUMENT: Size of values 0 does not match size of permutation 4 @ fanin shape inmodel_1/dropout_1/dropout/SelectV2-2-TransposeNHWCToNCHW-LayoutOptimizer\n"
     ]
    },
    {
     "name": "stdout",
     "output_type": "stream",
     "text": [
      "9/9 [==============================] - 5s 406ms/step - loss: 0.9373 - roc_auc: 0.5799 - val_loss: 0.6400 - val_roc_auc: 0.7572\n",
      "Epoch 2/10\n",
      "9/9 [==============================] - 3s 363ms/step - loss: 0.6372 - roc_auc: 0.7922 - val_loss: 0.5817 - val_roc_auc: 0.8184\n",
      "Epoch 3/10\n",
      "9/9 [==============================] - 3s 363ms/step - loss: 0.5263 - roc_auc: 0.8062 - val_loss: 0.5313 - val_roc_auc: 0.8441\n",
      "Epoch 4/10\n",
      "9/9 [==============================] - 3s 363ms/step - loss: 0.5170 - roc_auc: 0.8228 - val_loss: 0.5338 - val_roc_auc: 0.8619\n",
      "Epoch 5/10\n",
      "9/9 [==============================] - 3s 361ms/step - loss: 0.4823 - roc_auc: 0.8520 - val_loss: 0.4982 - val_roc_auc: 0.8407\n",
      "Epoch 6/10\n",
      "9/9 [==============================] - 3s 363ms/step - loss: 0.4479 - roc_auc: 0.8851 - val_loss: 0.4879 - val_roc_auc: 0.8407\n",
      "Epoch 7/10\n",
      "9/9 [==============================] - 3s 363ms/step - loss: 0.4302 - roc_auc: 0.8883 - val_loss: 0.4800 - val_roc_auc: 0.8463\n",
      "Epoch 8/10\n",
      "9/9 [==============================] - 3s 363ms/step - loss: 0.4108 - roc_auc: 0.8977 - val_loss: 0.5436 - val_roc_auc: 0.8726\n",
      "Epoch 9/10\n",
      "9/9 [==============================] - 3s 362ms/step - loss: 0.4198 - roc_auc: 0.8917 - val_loss: 0.5382 - val_roc_auc: 0.8528\n",
      "Epoch 10/10\n",
      "9/9 [==============================] - 3s 362ms/step - loss: 0.3864 - roc_auc: 0.9136 - val_loss: 0.6026 - val_roc_auc: 0.8579\n"
     ]
    }
   ],
   "source": [
    "epochs = 10\n",
    "\"\"\"history = model.fit(x=X_train, y = y_train, epochs=epochs, \n",
    "                    #callbacks=[model_checkpoint_cb, early_stopping_cb],\n",
    "                    validation_data=(X_valid, y_valid))\"\"\"\n",
    "\n",
    "history = model.fit(\n",
    "    [X_train_flair, X_train_t1],  # Pass in both inputs\n",
    "    y_train,\n",
    "    batch_size=32,\n",
    "    epochs=10,\n",
    "    validation_data=([X_valid_flair, X_valid_t1], y_valid),\n",
    ")"
   ]
  },
  {
   "cell_type": "code",
   "execution_count": 27,
   "id": "aa05af68",
   "metadata": {
    "execution": {
     "iopub.execute_input": "2024-05-15T17:04:14.046989Z",
     "iopub.status.busy": "2024-05-15T17:04:14.046152Z",
     "iopub.status.idle": "2024-05-15T17:04:14.455248Z",
     "shell.execute_reply": "2024-05-15T17:04:14.454271Z"
    },
    "papermill": {
     "duration": 0.452807,
     "end_time": "2024-05-15T17:04:14.458075",
     "exception": false,
     "start_time": "2024-05-15T17:04:14.005268",
     "status": "completed"
    },
    "tags": []
   },
   "outputs": [
    {
     "data": {
      "image/png": "[encoded data removed]",
      "text/plain": [
       "<Figure size 1000x400 with 2 Axes>"
      ]
     },
     "metadata": {},
     "output_type": "display_data"
    }
   ],
   "source": [
    "import matplotlib.pyplot as plt\n",
    "\n",
    "fig, axs = plt.subplots(2, 2, figsize=(10, 4))\n",
    "\n",
    "plt.subplot(1, 2, 1)\n",
    "\n",
    "plt.plot(history.history['roc_auc'])\n",
    "plt.plot(history.history['val_roc_auc'])\n",
    "plt.title('Model Accuracy')\n",
    "plt.ylabel('Accuracy')\n",
    "plt.xlabel('Epoch')\n",
    "plt.legend(['Train', 'Validation'], loc='upper left')\n",
    "\n",
    "\n",
    "plt.subplot(1, 2, 2)\n",
    "\n",
    "import matplotlib.pyplot as plt\n",
    "\n",
    "plt.plot(history.history['loss'])\n",
    "plt.plot(history.history['val_loss'])\n",
    "plt.title('Model Loss')\n",
    "plt.ylabel('loss')\n",
    "plt.xlabel('Epoch')\n",
    "plt.legend(['Train', 'Validation'], loc='upper left')\n",
    "plt.show()"
   ]
  },
  {
   "cell_type": "code",
   "execution_count": 28,
   "id": "9960519f",
   "metadata": {
    "execution": {
     "iopub.execute_input": "2024-05-15T17:04:14.533707Z",
     "iopub.status.busy": "2024-05-15T17:04:14.532936Z",
     "iopub.status.idle": "2024-05-15T17:04:14.910285Z",
     "shell.execute_reply": "2024-05-15T17:04:14.908963Z"
    },
    "papermill": {
     "duration": 0.417463,
     "end_time": "2024-05-15T17:04:14.912658",
     "exception": false,
     "start_time": "2024-05-15T17:04:14.495195",
     "status": "completed"
    },
    "tags": []
   },
   "outputs": [
    {
     "name": "stdout",
     "output_type": "stream",
     "text": [
      "3/3 [==============================] - 0s 64ms/step\n",
      "              precision    recall  f1-score   support\n",
      "\n",
      "           0       0.76      1.00      0.86        51\n",
      "           1       0.00      0.00      0.00        16\n",
      "\n",
      "    accuracy                           0.76        67\n",
      "   macro avg       0.38      0.50      0.43        67\n",
      "weighted avg       0.58      0.76      0.66        67\n",
      "\n"
     ]
    },
    {
     "name": "stderr",
     "output_type": "stream",
     "text": [
      "/opt/conda/lib/python3.7/site-packages/sklearn/metrics/_classification.py:1318: UndefinedMetricWarning: Precision and F-score are ill-defined and being set to 0.0 in labels with no predicted samples. Use `zero_division` parameter to control this behavior.\n",
      "  _warn_prf(average, modifier, msg_start, len(result))\n",
      "/opt/conda/lib/python3.7/site-packages/sklearn/metrics/_classification.py:1318: UndefinedMetricWarning: Precision and F-score are ill-defined and being set to 0.0 in labels with no predicted samples. Use `zero_division` parameter to control this behavior.\n",
      "  _warn_prf(average, modifier, msg_start, len(result))\n",
      "/opt/conda/lib/python3.7/site-packages/sklearn/metrics/_classification.py:1318: UndefinedMetricWarning: Precision and F-score are ill-defined and being set to 0.0 in labels with no predicted samples. Use `zero_division` parameter to control this behavior.\n",
      "  _warn_prf(average, modifier, msg_start, len(result))\n"
     ]
    }
   ],
   "source": [
    "from sklearn.metrics import classification_report,confusion_matrix\n",
    "\n",
    "pred = model.predict([X_valid_flair,X_valid_t1])\n",
    "\n",
    "pred = np.argmax(pred,axis=1)\n",
    "\n",
    "y_test_new = np.argmax(y_valid,axis=1)\n",
    "\n",
    "print(classification_report(y_test_new,pred))"
   ]
  }
 ],
 "metadata": {
  "kaggle": {
   "accelerator": "gpu",
   "dataSources": [
    {
     "datasetId": 1551656,
     "sourceId": 2557428,
     "sourceType": "datasetVersion"
    }
   ],
   "dockerImageVersionId": 30408,
   "isGpuEnabled": true,
   "isInternetEnabled": true,
   "language": "python",
   "sourceType": "notebook"
  },
  "kernelspec": {
   "display_name": "Python 3",
   "language": "python",
   "name": "python3"
  },
  "language_info": {
   "codemirror_mode": {
    "name": "ipython",
    "version": 3
   },
   "file_extension": ".py",
   "mimetype": "text/x-python",
   "name": "python",
   "nbconvert_exporter": "python",
   "pygments_lexer": "ipython3",
   "version": "3.7.12"
  },
  "papermill": {
   "default_parameters": {},
   "duration": 271.170187,
   "end_time": "2024-05-15T17:04:17.898044",
   "environment_variables": {},
   "exception": null,
   "input_path": "__notebook__.ipynb",
   "output_path": "__notebook__.ipynb",
   "parameters": {},
   "start_time": "2024-05-15T16:59:46.727857",
   "version": "2.4.0"
  }
 },
 "nbformat": 4,
 "nbformat_minor": 5
}
